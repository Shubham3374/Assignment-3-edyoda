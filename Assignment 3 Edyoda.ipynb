{
 "cells": [
  {
   "cell_type": "markdown",
   "metadata": {},
   "source": [
    " ## Write a Python function to sum all the numbers in a list."
   ]
  },
  {
   "cell_type": "code",
   "execution_count": 10,
   "metadata": {},
   "outputs": [
    {
     "name": "stdout",
     "output_type": "stream",
     "text": [
      "20\n"
     ]
    }
   ],
   "source": [
    "numbers = [8,2,3,0,7]\n",
    "\n",
    "def sum(numbers):\n",
    "    \n",
    "    total = 0\n",
    "    \n",
    "    for x in numbers:\n",
    "        \n",
    "        total += x\n",
    "        \n",
    "    return total\n",
    "\n",
    "print(sum(numbers))\n",
    "        \n",
    "\n",
    "\n",
    "\n",
    "\n",
    "\n"
   ]
  },
  {
   "cell_type": "markdown",
   "metadata": {},
   "source": [
    "## Write a Python program to reverse a string."
   ]
  },
  {
   "cell_type": "code",
   "execution_count": 12,
   "metadata": {},
   "outputs": [
    {
     "name": "stdout",
     "output_type": "stream",
     "text": [
      "Enter the string : 1234abcd\n",
      "dcba4321\n"
     ]
    }
   ],
   "source": [
    "#Sample String : \"1234abcd\"\n",
    "\n",
    "#Expected Output : \"dcba4321\"\n",
    "\n",
    "\n",
    "def reverse(string):\n",
    "    \n",
    "    reversed_string = \"\"\n",
    "    \n",
    "    for i in string:\n",
    "        \n",
    "        reversed_string = i + reversed_string\n",
    "        \n",
    "    print(reversed_string)\n",
    "    \n",
    "string = input(\"Enter the string : \")\n",
    "\n",
    "reverse(string)\n"
   ]
  },
  {
   "cell_type": "markdown",
   "metadata": {},
   "source": [
    "## Write a Python function that accepts a string and calculate the number of upper case letters and lower case letters.\n",
    "\n"
   ]
  },
  {
   "cell_type": "code",
   "execution_count": 14,
   "metadata": {},
   "outputs": [
    {
     "name": "stdout",
     "output_type": "stream",
     "text": [
      "Enter any string : The quick Brow Fox\n",
      "No. of Upper case characters :  3\n",
      "No. of Lower case characters :  12\n"
     ]
    }
   ],
   "source": [
    "# Sample String : 'The quick Brow Fox'\n",
    "# Expected Output :\n",
    "\n",
    "# No. of Upper case characters : 3\n",
    "# No. of Lower case Characters : 12\n",
    "\n",
    "\n",
    "\n",
    "\n",
    "def fun(string):\n",
    "    n1 = 0\n",
    "    n2 = 0\n",
    "    \n",
    "    for i in string :\n",
    "        \n",
    "        if i.isupper():\n",
    "            n1 = n1+1\n",
    "            \n",
    "        elif i.islower():\n",
    "            n2 = n2+1\n",
    "            \n",
    "    print(\"No. of Upper case characters : \" , n1)\n",
    "    print(\"No. of Lower case characters : \" , n2)\n",
    "    \n",
    "my_string = input(\"Enter any string : \")\n",
    "fun(my_string)"
   ]
  }
 ],
 "metadata": {
  "kernelspec": {
   "display_name": "Python 3",
   "language": "python",
   "name": "python3"
  },
  "language_info": {
   "codemirror_mode": {
    "name": "ipython",
    "version": 3
   },
   "file_extension": ".py",
   "mimetype": "text/x-python",
   "name": "python",
   "nbconvert_exporter": "python",
   "pygments_lexer": "ipython3",
   "version": "3.7.0"
  }
 },
 "nbformat": 4,
 "nbformat_minor": 2
}
